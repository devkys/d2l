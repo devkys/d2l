{
 "cells": [
  {
   "cell_type": "markdown",
   "id": "f22a2a7b",
   "metadata": {},
   "source": [
    "# 대표적인 손실 함수는 오차제곱합과 교차 엔트로피 오차"
   ]
  },
  {
   "cell_type": "markdown",
   "id": "44b254ef",
   "metadata": {},
   "source": [
    "## 오차제곱합\n",
    "### 오차 제곱합 함수( sum of squares for err, SSE )는 정답 레이블을 원-핫 인코딩 방식으로 표현\n",
    "\n",
    "<span style=\"color:red\">오차 제곱합 함수는 손실 함수 쪽 출력이 작으며 정답 레이블과의 오차도 작은 것을 알 수 있음.</span>"
   ]
  },
  {
   "cell_type": "code",
   "execution_count": 7,
   "id": "1d899461",
   "metadata": {},
   "outputs": [
    {
     "data": {
      "text/plain": [
       "0.09750000000000003"
      ]
     },
     "execution_count": 7,
     "metadata": {},
     "output_type": "execute_result"
    }
   ],
   "source": [
    "import numpy as np\n",
    "\n",
    "# 오차 제곱합 함수 정의\n",
    "def sum_squares_error(y, t):\n",
    "    return 0.5 * np.sum((y-t)**2)\n",
    "\n",
    "# t배열의 정답은 2\n",
    "t = [0,0,1,0,0,0,0,0,0,0]\n",
    "# 2의 확률이 가장 높다고 추정함(0.6)\n",
    "y = [0.1, 0.05, 0.6, 0.0, 0.05, 0.1, 0.0, 0.1, 0.0, 0.0]\n",
    "sum_squares_error(np.array(y), np.array(t))\n",
    "\n",
    "# 손실 함수의 출력이 9.75%로 오차가 적다는 것을 의믜함."
   ]
  },
  {
   "cell_type": "code",
   "execution_count": 9,
   "id": "0a9efcd8",
   "metadata": {},
   "outputs": [
    {
     "data": {
      "text/plain": [
       "0.72125"
      ]
     },
     "execution_count": 9,
     "metadata": {},
     "output_type": "execute_result"
    }
   ],
   "source": [
    "# '7'일 확률이 가장 높다고 추정함(0.6)\n",
    "y = [0.1, 0.05, 0.1, 0.0, 0.5, 0.1, 0.0, 0.6, 0.0, 0.0]\n",
    "sum_squares_error(np.array(y), np.array(t))\n",
    "\n",
    "# 손실 함수의 출력이 72.12%로 오차가 크다는 것을 의미함."
   ]
  },
  {
   "cell_type": "markdown",
   "id": "8e886f45",
   "metadata": {},
   "source": [
    "## 교차 엔트로피 오차\n",
    "### 교차 엔트로피 오차 ( cross entropy error, CEE )는 정답 레이블을 원-핫 인코딩 방식으로 표현\n",
    "<h3><span style=\"color:red\">정답에 해당하는 출력이 커질수록 0에 다가가다가, 그 출력이 1일때 0이 됨.</span></h3>\n",
    "<h3><span style=\"color:red\">반대로 정답일 때의 출력이 작아질수록 오차는 커짐</span></h3>"
   ]
  },
  {
   "cell_type": "code",
   "execution_count": 36,
   "id": "67607e83",
   "metadata": {},
   "outputs": [
    {
     "data": {
      "image/png": "[encoded data removed]",
      "text/plain": [
       "<Figure size 432x288 with 1 Axes>"
      ]
     },
     "metadata": {
      "needs_background": "light"
     },
     "output_type": "display_data"
    }
   ],
   "source": [
    "import numpy as np\n",
    "import matplotlib.pyplot as plt\n",
    "\n",
    "x = np.arange(0.1, 1.0, 0.1)\n",
    "y = np.log(x)\n",
    "\n",
    "# 자연로그 y = logx 그래프\n",
    "plt.plot(x, y)\n",
    "plt.title(\"y=logex\")\n",
    "plt.xlabel(\"x\")\n",
    "plt.ylabel(\"y\")\n",
    "plt.xlim(0.0, 1.0)\n",
    "plt.show()"
   ]
  },
  {
   "cell_type": "code",
   "execution_count": 47,
   "id": "90dbe9a0",
   "metadata": {},
   "outputs": [
    {
     "data": {
      "text/plain": [
       "0.510825457099338"
      ]
     },
     "execution_count": 47,
     "metadata": {},
     "output_type": "execute_result"
    }
   ],
   "source": [
    "import numpy as np\n",
    "\n",
    "# np.log() 함수에 0을 입력하면 -inf가 되어 더 이상 계산을 진행 할 수 없기에\n",
    "# 아주 작은 값(delta)을 더해서 절대 0이 되지 않도록, 즉 마이너스 무한대가 발생하지 않도록 함\n",
    "def cross_entropy_error(y, t):\n",
    "    delta = 1e-7\n",
    "    return -np.sum(t * np.log(y + delta))\n",
    "\n",
    "t = [0, 0, 1, 0, 0, 0, 0, 0, 0, 0]\n",
    "# 정답 레이블 '2'\n",
    "y = [0.1, 0.05, 0.6, 0.0, 0.05, 0.1, 0.0, 0.1, 0.0, 0.0]\n",
    "cross_entropy_error(np.array(y), np.array(t))"
   ]
  },
  {
   "cell_type": "code",
   "execution_count": 48,
   "id": "1fe807a4",
   "metadata": {},
   "outputs": [
    {
     "data": {
      "text/plain": [
       "2.3025840929945454"
      ]
     },
     "execution_count": 48,
     "metadata": {},
     "output_type": "execute_result"
    }
   ],
   "source": [
    "t = [0, 0, 1, 0, 0, 0, 0, 0, 0, 0]\n",
    "y = [0.1, 0.05, 0.1, 0.0, 0.5, 0.1, 0.0, 0.6, 0.0, 0.0]\n",
    "\n",
    "cross_entropy_error(np.array(y), np.array(t))"
   ]
  }
 ],
 "metadata": {
  "kernelspec": {
   "display_name": "Python 3 (ipykernel)",
   "language": "python",
   "name": "python3"
  },
  "language_info": {
   "codemirror_mode": {
    "name": "ipython",
    "version": 3
   },
   "file_extension": ".py",
   "mimetype": "text/x-python",
   "name": "python",
   "nbconvert_exporter": "python",
   "pygments_lexer": "ipython3",
   "version": "3.8.12"
  }
 },
 "nbformat": 4,
 "nbformat_minor": 5
}
