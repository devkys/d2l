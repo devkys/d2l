{
 "cells": [
  {
   "cell_type": "markdown",
   "id": "c1523a84",
   "metadata": {},
   "source": [
    "# Mini batch\n",
    "## 훈련 데이터의 일부만 추려 전체의 '근사치'로 손실 함수의 합을 구함."
   ]
  },
  {
   "cell_type": "code",
   "execution_count": 7,
   "id": "6b0001c3",
   "metadata": {},
   "outputs": [
    {
     "name": "stdout",
     "output_type": "stream",
     "text": [
      "(60000, 784)\n",
      "(60000, 10)\n"
     ]
    }
   ],
   "source": [
    "import sys, os\n",
    "sys.path.append(os.pardir)\n",
    "import numpy as np\n",
    "from dataset.mnist import load_mnist\n",
    "\n",
    "(x_train, t_train), (x_test, t_test) = \\\n",
    "load_mnist(normalize=True, one_hot_label=True)\n",
    "\n",
    "print(x_train.shape)\n",
    "print(t_train.shape)"
   ]
  },
  {
   "cell_type": "code",
   "execution_count": 11,
   "id": "aa2744a6",
   "metadata": {},
   "outputs": [
    {
     "name": "stdout",
     "output_type": "stream",
     "text": [
      "784\n"
     ]
    }
   ],
   "source": [
    "train_size = x_train.shape[0]    # 60,000장의 데이터 train_size에 넣어주기\n",
    "batch_size = 10  #60,000장의 데이터 중 10장만 가져오기\n",
    "batch_mask = np.random.choice(train_size, batch_size)  # 60,000미만의 숫자중 랜덤으로 10개 골라냄\n",
    "x_batch = x_train[batch_mask]\n",
    "t_batch = t_train[batch_mask]\n",
    "\n",
    "print(x_batch.shape[1])\n",
    "# print(t_batch)"
   ]
  },
  {
   "cell_type": "code",
   "execution_count": 12,
   "id": "31632d7c",
   "metadata": {},
   "outputs": [],
   "source": [
    "def cross_entropy_error(y, t):\n",
    "    if y.ndim == 1:    # y가 1차원 배열\n",
    "        t = t.reshape(1, t.size)\n",
    "        y = y.reshape(1, y.size)\n",
    "        \n",
    "    batch_size= y.shape[0]\n",
    "    return -np.sum(t * np.log(y+1e-7)) / batch_size"
   ]
  },
  {
   "cell_type": "code",
   "execution_count": null,
   "id": "ae58b0f3",
   "metadata": {},
   "outputs": [],
   "source": [
    "# 정답 레이블이 원-핫 인코딩이 아닐때\n",
    "# 원-핫 인코딩 시는 t가 0인 원소는 교차 엔트로피 오차는 0, \n",
    "# 그래서 레이블이 원-핫 인코딩 방식이 아닌 숫자 레이블은 np.log(y[np.arange(batch_size), t])로 구현\n",
    "def cross_entropy_error(y, t):\n",
    "    if y.ndim = 1:\n",
    "        t = t.reshape(1, t.size)\n",
    "        y = y.reshape(1, y.size)\n",
    "        \n",
    "    batch_size = y.shape[0]\n",
    "    return -np.sum(np.log(y[np.arange(batch_size), t] + 1e-7)) / batch_size    \n",
    "    "
   ]
  }
 ],
 "metadata": {
  "kernelspec": {
   "display_name": "Python 3 (ipykernel)",
   "language": "python",
   "name": "python3"
  },
  "language_info": {
   "codemirror_mode": {
    "name": "ipython",
    "version": 3
   },
   "file_extension": ".py",
   "mimetype": "text/x-python",
   "name": "python",
   "nbconvert_exporter": "python",
   "pygments_lexer": "ipython3",
   "version": "3.8.12"
  }
 },
 "nbformat": 4,
 "nbformat_minor": 5
}
